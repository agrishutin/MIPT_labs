{
 "cells": [
  {
   "cell_type": "code",
   "execution_count": 11,
   "metadata": {},
   "outputs": [
    {
     "data": {
      "text/html": [
       "<script>\n",
       "code_show=true; \n",
       "function code_toggle() {\n",
       " if (code_show){\n",
       " $('div.input').hide();\n",
       " } else {\n",
       " $('div.input').show();\n",
       " }\n",
       " code_show = !code_show\n",
       "} \n",
       "$( document ).ready(code_toggle);\n",
       "</script>\n",
       "<form action=\"javascript:code_toggle()\"><input type=\"submit\" value=\"Click here to toggle on/off the raw code.\"></form>"
      ],
      "text/plain": [
       "<IPython.core.display.HTML object>"
      ]
     },
     "execution_count": 11,
     "metadata": {},
     "output_type": "execute_result"
    }
   ],
   "source": [
    "from IPython.display import HTML\n",
    "\n",
    "HTML('''<script>\n",
    "code_show=true; \n",
    "function code_toggle() {\n",
    " if (code_show){\n",
    " $('div.input').hide();\n",
    " } else {\n",
    " $('div.input').show();\n",
    " }\n",
    " code_show = !code_show\n",
    "} \n",
    "$( document ).ready(code_toggle);\n",
    "</script>\n",
    "<form action=\"javascript:code_toggle()\"><input type=\"submit\" value=\"Click here to toggle on/off the raw code.\"></form>''')"
   ]
  },
  {
   "cell_type": "code",
   "execution_count": 12,
   "metadata": {
    "collapsed": true
   },
   "outputs": [],
   "source": [
    "import numpy as np\n",
    "import pandas as pd\n",
    "import matplotlib.pyplot as plt\n",
    "%matplotlib inline"
   ]
  },
  {
   "cell_type": "code",
   "execution_count": 13,
   "metadata": {
    "collapsed": true
   },
   "outputs": [],
   "source": [
    "#           lmbd  baraban\n",
    "measures_ne = np.array(\n",
    "           [[5331, 1866],\n",
    "            [5341, 1872],\n",
    "            [5401, 1916],\n",
    "            [5852, 2182],\n",
    "            [5882, 2191],\n",
    "            [5945, 2228],\n",
    "            [5976, 2240],\n",
    "            [6030, 2269],\n",
    "            [6074, 2278],\n",
    "            [6096, 2292],\n",
    "            [6143, 2312],\n",
    "            [6164, 2324],\n",
    "            [6217, 2340],\n",
    "            [6267, 2359],\n",
    "            [6305, 2381],\n",
    "            [6334, 2389],\n",
    "            [6383, 2408],\n",
    "            [6402, 2412],\n",
    "            [6507, 2452],\n",
    "            [6533, 2462],\n",
    "            [6599, 2486],\n",
    "            [6678, 2516],\n",
    "            [6717, 2530]])"
   ]
  },
  {
   "cell_type": "code",
   "execution_count": 30,
   "metadata": {},
   "outputs": [],
   "source": [
    "# что-то Вадик неправильно всё снял, пришлось катать у Ани Климчук\n",
    "anya_ne = np.array([\n",
    "    [\"желтая\", 2150, 5852.49],\n",
    "    [\"желтая\", 2162, 5881.89],\n",
    "    [\"оранжевая\", 2192, 5944.83],\n",
    "    [\"оранжевая\", 2206, 5975.53],\n",
    "    [\"оранжевая\", 2234, 6030.00],\n",
    "    [\"оранжевая\", 2252, 6074.34],\n",
    "    [\"оранжевая\", 2263, 6096.14],\n",
    "    [\"красно-оранжевая\", 2283, 6143.06],\n",
    "    [\"красно-оранжевая\", 2292, 6163.59],\n",
    "    [\"красно-оранжевая\", 2314, 6217.28],\n",
    "    [\"красно-оранжевая\", 2334, 6266.49],\n",
    "    [\"красно-оранжевая\", 2350, 6304.79],\n",
    "    [\"красно-оранжевая\", 2362, 6334.42],\n",
    "    [\"красно-оранжевая\", 2381, 6382.99],\n",
    "    [\"ярко-красная\", 2390, 6402.24],\n",
    "    [\"ярко-красная\", 2426, 6505.53],\n",
    "    [\"ярко-красная\", 2436, 6532.88],\n",
    "    [\"ярко-красная\", 2458, 6598.95],\n",
    "    [\"красная\", 2486, 6678.28],\n",
    "    [\"красная\", 2500, 6717.04],\n",
    "    [\"красная\", 2566, 6929.47],\n",
    "    [\"тёмно-красная\", 2596, 7032.41]\n",
    "])"
   ]
  },
  {
   "cell_type": "markdown",
   "metadata": {},
   "source": [
    "# Лабораторная работа 2.2 и 2.3.\n",
    "## Изучение спектров атома водорода и молекулы йода.\n",
    "### Выполнили Гришутин Александр и Плахтинский Вадим"
   ]
  },
  {
   "cell_type": "code",
   "execution_count": 31,
   "metadata": {},
   "outputs": [
    {
     "data": {
      "text/html": [
       "<div>\n",
       "<style>\n",
       "    .dataframe thead tr:only-child th {\n",
       "        text-align: right;\n",
       "    }\n",
       "\n",
       "    .dataframe thead th {\n",
       "        text-align: left;\n",
       "    }\n",
       "\n",
       "    .dataframe tbody tr th {\n",
       "        vertical-align: top;\n",
       "    }\n",
       "</style>\n",
       "<table border=\"1\" class=\"dataframe\">\n",
       "  <thead>\n",
       "    <tr style=\"text-align: right;\">\n",
       "      <th></th>\n",
       "      <th>цвет</th>\n",
       "      <th>Показания барабана</th>\n",
       "      <th>$\\lambda, A(10^{-10}м)$</th>\n",
       "    </tr>\n",
       "  </thead>\n",
       "  <tbody>\n",
       "    <tr>\n",
       "      <th>0</th>\n",
       "      <td>желтая</td>\n",
       "      <td>2150</td>\n",
       "      <td>5852.49</td>\n",
       "    </tr>\n",
       "    <tr>\n",
       "      <th>1</th>\n",
       "      <td>желтая</td>\n",
       "      <td>2162</td>\n",
       "      <td>5881.89</td>\n",
       "    </tr>\n",
       "    <tr>\n",
       "      <th>2</th>\n",
       "      <td>оранжевая</td>\n",
       "      <td>2192</td>\n",
       "      <td>5944.83</td>\n",
       "    </tr>\n",
       "    <tr>\n",
       "      <th>3</th>\n",
       "      <td>оранжевая</td>\n",
       "      <td>2206</td>\n",
       "      <td>5975.53</td>\n",
       "    </tr>\n",
       "    <tr>\n",
       "      <th>4</th>\n",
       "      <td>оранжевая</td>\n",
       "      <td>2234</td>\n",
       "      <td>6030.0</td>\n",
       "    </tr>\n",
       "    <tr>\n",
       "      <th>5</th>\n",
       "      <td>оранжевая</td>\n",
       "      <td>2252</td>\n",
       "      <td>6074.34</td>\n",
       "    </tr>\n",
       "    <tr>\n",
       "      <th>6</th>\n",
       "      <td>оранжевая</td>\n",
       "      <td>2263</td>\n",
       "      <td>6096.14</td>\n",
       "    </tr>\n",
       "    <tr>\n",
       "      <th>7</th>\n",
       "      <td>красно-оранжевая</td>\n",
       "      <td>2283</td>\n",
       "      <td>6143.06</td>\n",
       "    </tr>\n",
       "    <tr>\n",
       "      <th>8</th>\n",
       "      <td>красно-оранжевая</td>\n",
       "      <td>2292</td>\n",
       "      <td>6163.59</td>\n",
       "    </tr>\n",
       "    <tr>\n",
       "      <th>9</th>\n",
       "      <td>красно-оранжевая</td>\n",
       "      <td>2314</td>\n",
       "      <td>6217.28</td>\n",
       "    </tr>\n",
       "    <tr>\n",
       "      <th>10</th>\n",
       "      <td>красно-оранжевая</td>\n",
       "      <td>2334</td>\n",
       "      <td>6266.49</td>\n",
       "    </tr>\n",
       "    <tr>\n",
       "      <th>11</th>\n",
       "      <td>красно-оранжевая</td>\n",
       "      <td>2350</td>\n",
       "      <td>6304.79</td>\n",
       "    </tr>\n",
       "    <tr>\n",
       "      <th>12</th>\n",
       "      <td>красно-оранжевая</td>\n",
       "      <td>2362</td>\n",
       "      <td>6334.42</td>\n",
       "    </tr>\n",
       "    <tr>\n",
       "      <th>13</th>\n",
       "      <td>красно-оранжевая</td>\n",
       "      <td>2381</td>\n",
       "      <td>6382.99</td>\n",
       "    </tr>\n",
       "    <tr>\n",
       "      <th>14</th>\n",
       "      <td>ярко-красная</td>\n",
       "      <td>2390</td>\n",
       "      <td>6402.24</td>\n",
       "    </tr>\n",
       "    <tr>\n",
       "      <th>15</th>\n",
       "      <td>ярко-красная</td>\n",
       "      <td>2426</td>\n",
       "      <td>6505.53</td>\n",
       "    </tr>\n",
       "    <tr>\n",
       "      <th>16</th>\n",
       "      <td>ярко-красная</td>\n",
       "      <td>2436</td>\n",
       "      <td>6532.88</td>\n",
       "    </tr>\n",
       "    <tr>\n",
       "      <th>17</th>\n",
       "      <td>ярко-красная</td>\n",
       "      <td>2458</td>\n",
       "      <td>6598.95</td>\n",
       "    </tr>\n",
       "    <tr>\n",
       "      <th>18</th>\n",
       "      <td>красная</td>\n",
       "      <td>2486</td>\n",
       "      <td>6678.28</td>\n",
       "    </tr>\n",
       "    <tr>\n",
       "      <th>19</th>\n",
       "      <td>красная</td>\n",
       "      <td>2500</td>\n",
       "      <td>6717.04</td>\n",
       "    </tr>\n",
       "    <tr>\n",
       "      <th>20</th>\n",
       "      <td>красная</td>\n",
       "      <td>2566</td>\n",
       "      <td>6929.47</td>\n",
       "    </tr>\n",
       "    <tr>\n",
       "      <th>21</th>\n",
       "      <td>тёмно-красная</td>\n",
       "      <td>2596</td>\n",
       "      <td>7032.41</td>\n",
       "    </tr>\n",
       "  </tbody>\n",
       "</table>\n",
       "</div>"
      ],
      "text/plain": [
       "                цвет Показания барабана $\\lambda, A(10^{-10}м)$\n",
       "0             желтая               2150                 5852.49\n",
       "1             желтая               2162                 5881.89\n",
       "2          оранжевая               2192                 5944.83\n",
       "3          оранжевая               2206                 5975.53\n",
       "4          оранжевая               2234                  6030.0\n",
       "5          оранжевая               2252                 6074.34\n",
       "6          оранжевая               2263                 6096.14\n",
       "7   красно-оранжевая               2283                 6143.06\n",
       "8   красно-оранжевая               2292                 6163.59\n",
       "9   красно-оранжевая               2314                 6217.28\n",
       "10  красно-оранжевая               2334                 6266.49\n",
       "11  красно-оранжевая               2350                 6304.79\n",
       "12  красно-оранжевая               2362                 6334.42\n",
       "13  красно-оранжевая               2381                 6382.99\n",
       "14      ярко-красная               2390                 6402.24\n",
       "15      ярко-красная               2426                 6505.53\n",
       "16      ярко-красная               2436                 6532.88\n",
       "17      ярко-красная               2458                 6598.95\n",
       "18           красная               2486                 6678.28\n",
       "19           красная               2500                 6717.04\n",
       "20           красная               2566                 6929.47\n",
       "21     тёмно-красная               2596                 7032.41"
      ]
     },
     "execution_count": 31,
     "metadata": {},
     "output_type": "execute_result"
    }
   ],
   "source": [
    "measures = pd.DataFrame(data=anya_ne, \n",
    "                        columns=[r\"цвет\",\n",
    "                                 r\"Показания барабана\", \n",
    "                                 r\"$\\lambda, A(10^{-10}м)$\"])\n",
    "\n",
    "measures"
   ]
  },
  {
   "cell_type": "code",
   "execution_count": 59,
   "metadata": {},
   "outputs": [
    {
     "data": {
      "image/png": "[encoded data removed]",
      "text/plain": [
       "<matplotlib.figure.Figure at 0x2916a8c9d30>"
      ]
     },
     "metadata": {},
     "output_type": "display_data"
    }
   ],
   "source": [
    "plt.figure(figsize=(18, 18))\n",
    "plt.errorbar(list(map(float, anya_ne[:, 1])), list(map(float, anya_ne[:, 2])),\n",
    "             yerr=10, xerr=3,\n",
    "             label='Углы Ne')\n",
    "\n",
    "plt.title(\"Градуировочная кривая монохроматора\", fontsize=16)\n",
    "plt.xlabel(\"Градусные деления барабана\", fontsize=16)\n",
    "plt.ylabel(\"Длины волн, А\", fontsize=16)\n",
    "plt.legend(loc='best', fontsize=16)\n",
    "plt.show()"
   ]
  },
  {
   "cell_type": "markdown",
   "metadata": {},
   "source": [
    "## H2"
   ]
  },
  {
   "cell_type": "code",
   "execution_count": 20,
   "metadata": {
    "collapsed": true
   },
   "outputs": [],
   "source": [
    "measures_h2 = np.array([\n",
    "                 [\"красная\", 2470],\n",
    "                 [\"синяя\", 1479],\n",
    "                 [\"1 фиолетовая\", 834],\n",
    "                 [\"2 фиолетовая\", 411]\n",
    "])\n"
   ]
  },
  {
   "cell_type": "code",
   "execution_count": 22,
   "metadata": {},
   "outputs": [
    {
     "data": {
      "text/html": [
       "<div>\n",
       "<style>\n",
       "    .dataframe thead tr:only-child th {\n",
       "        text-align: right;\n",
       "    }\n",
       "\n",
       "    .dataframe thead th {\n",
       "        text-align: left;\n",
       "    }\n",
       "\n",
       "    .dataframe tbody tr th {\n",
       "        vertical-align: top;\n",
       "    }\n",
       "</style>\n",
       "<table border=\"1\" class=\"dataframe\">\n",
       "  <thead>\n",
       "    <tr style=\"text-align: right;\">\n",
       "      <th></th>\n",
       "      <th>цвет</th>\n",
       "      <th>Показания барабана</th>\n",
       "    </tr>\n",
       "  </thead>\n",
       "  <tbody>\n",
       "    <tr>\n",
       "      <th>0</th>\n",
       "      <td>красная</td>\n",
       "      <td>2470</td>\n",
       "    </tr>\n",
       "    <tr>\n",
       "      <th>1</th>\n",
       "      <td>синяя</td>\n",
       "      <td>1479</td>\n",
       "    </tr>\n",
       "    <tr>\n",
       "      <th>2</th>\n",
       "      <td>1 фиолетовая</td>\n",
       "      <td>834</td>\n",
       "    </tr>\n",
       "    <tr>\n",
       "      <th>3</th>\n",
       "      <td>2 фиолетовая</td>\n",
       "      <td>411</td>\n",
       "    </tr>\n",
       "  </tbody>\n",
       "</table>\n",
       "</div>"
      ],
      "text/plain": [
       "           цвет Показания барабана\n",
       "0       красная               2470\n",
       "1         синяя               1479\n",
       "2  1 фиолетовая                834\n",
       "3  2 фиолетовая                411"
      ]
     },
     "execution_count": 22,
     "metadata": {},
     "output_type": "execute_result"
    }
   ],
   "source": [
    "measures = pd.DataFrame(data=measures_h2, \n",
    "                        columns=[r\"цвет\",\n",
    "                                 r\"Показания барабана\"])\n",
    "\n",
    "measures"
   ]
  },
  {
   "cell_type": "markdown",
   "metadata": {},
   "source": [
    "\n",
    "\n",
    "## I"
   ]
  },
  {
   "cell_type": "code",
   "execution_count": 46,
   "metadata": {
    "collapsed": true
   },
   "outputs": [],
   "source": [
    "#                      \n",
    "measures_i = np.array([[0, 2320],\n",
    "                       [5, 2245],\n",
    "                       [10, 2176]])"
   ]
  },
  {
   "cell_type": "code",
   "execution_count": 47,
   "metadata": {},
   "outputs": [
    {
     "data": {
      "text/html": [
       "<div>\n",
       "<style>\n",
       "    .dataframe thead tr:only-child th {\n",
       "        text-align: right;\n",
       "    }\n",
       "\n",
       "    .dataframe thead th {\n",
       "        text-align: left;\n",
       "    }\n",
       "\n",
       "    .dataframe tbody tr th {\n",
       "        vertical-align: top;\n",
       "    }\n",
       "</style>\n",
       "<table border=\"1\" class=\"dataframe\">\n",
       "  <thead>\n",
       "    <tr style=\"text-align: right;\">\n",
       "      <th></th>\n",
       "      <th>количество полос</th>\n",
       "      <th>показания барабана</th>\n",
       "    </tr>\n",
       "  </thead>\n",
       "  <tbody>\n",
       "    <tr>\n",
       "      <th>0</th>\n",
       "      <td>0</td>\n",
       "      <td>2320</td>\n",
       "    </tr>\n",
       "    <tr>\n",
       "      <th>1</th>\n",
       "      <td>5</td>\n",
       "      <td>2245</td>\n",
       "    </tr>\n",
       "    <tr>\n",
       "      <th>2</th>\n",
       "      <td>10</td>\n",
       "      <td>2176</td>\n",
       "    </tr>\n",
       "  </tbody>\n",
       "</table>\n",
       "</div>"
      ],
      "text/plain": [
       "   количество полос  показания барабана\n",
       "0                 0                2320\n",
       "1                 5                2245\n",
       "2                10                2176"
      ]
     },
     "execution_count": 47,
     "metadata": {},
     "output_type": "execute_result"
    }
   ],
   "source": [
    "measures = pd.DataFrame(data=measures_i, \n",
    "                        columns=[r\"количество полос\",\n",
    "                                 r\"показания барабана\"])\n",
    "\n",
    "measures"
   ]
  },
  {
   "cell_type": "code",
   "execution_count": 18,
   "metadata": {
    "collapsed": true
   },
   "outputs": [],
   "source": [
    "measures_hg = np.array([[579.1, 2144],\n",
    "                        [577.0, 2136],\n",
    "                        [546.1, 1952],\n",
    "                        [491.6, 1530],\n",
    "                        [404.7, 864]])"
   ]
  },
  {
   "cell_type": "markdown",
   "metadata": {},
   "source": [
    "# Часть 2"
   ]
  },
  {
   "cell_type": "markdown",
   "metadata": {},
   "source": [
    "### Серия Бальтера, одна из спектральных серий атома водорода\n",
    "\n",
    "| Линия       | длина волны |\n",
    "|-------------|-------------|\n",
    "|$H_{\\alpha}$ | $656.28$ нм |\n",
    "|$H_{\\beta}$  | $486.13$ нм |\n",
    "|$H_{\\gamma}$ | $434.05$ нм |\n",
    "|$H_{\\delta}$ | $410.2$ нм  |"
   ]
  },
  {
   "cell_type": "markdown",
   "metadata": {},
   "source": [
    "## По графику\n",
    "| Линия       | показания барабана | длина волны|\n",
    "|-------------|--------------------|------------|\n",
    "|$H_{\\alpha}$ | $2448$             | $655.0$ нм |\n",
    "|$H_{\\beta}$  | $1438$             | $487.5$ нм |\n",
    "|$H_{\\gamma}$ | $803$              | $435.0$ нм |\n",
    "|$H_{\\delta}$ | $387$              | $410.0$ нм |"
   ]
  },
  {
   "cell_type": "markdown",
   "metadata": {},
   "source": [
    "# Часть 3"
   ]
  },
  {
   "cell_type": "markdown",
   "metadata": {},
   "source": [
    "### Сериальная закономерность:\n",
    "\n",
    "$$\n",
    "    \\eta = R\\Big(\\frac{1}{r^2} - \\frac{1}{m^2}\\Big)\n",
    "$$\n",
    "$\\eta$ - частота света, $\\lambda=\\frac{c}{n\\eta}$\n",
    "$R$ - постоянная Ридберта, $R = 3.28984 \\cdot 10^{15} с^{-1}$\n",
    "$m$ - целое число"
   ]
  },
  {
   "cell_type": "code",
   "execution_count": 49,
   "metadata": {
    "collapsed": true
   },
   "outputs": [],
   "source": [
    "cases = np.array([\n",
    "    [3, 4.569, 6.57],\n",
    "    [4, 6.169, 4.86],\n",
    "    [5, 6.909, 4.34],\n",
    "    [6, 7.311, 4.1]\n",
    "])"
   ]
  },
  {
   "cell_type": "code",
   "execution_count": 56,
   "metadata": {},
   "outputs": [
    {
     "data": {
      "text/html": [
       "<div>\n",
       "<style>\n",
       "    .dataframe thead tr:only-child th {\n",
       "        text-align: right;\n",
       "    }\n",
       "\n",
       "    .dataframe thead th {\n",
       "        text-align: left;\n",
       "    }\n",
       "\n",
       "    .dataframe tbody tr th {\n",
       "        vertical-align: top;\n",
       "    }\n",
       "</style>\n",
       "<table border=\"1\" class=\"dataframe\">\n",
       "  <thead>\n",
       "    <tr style=\"text-align: right;\">\n",
       "      <th></th>\n",
       "      <th>m</th>\n",
       "      <th>$\\eta, \\cdot 10^{14}c^{-1}$</th>\n",
       "      <th>$\\lambda, \\cdot 10^{-7}м$</th>\n",
       "    </tr>\n",
       "  </thead>\n",
       "  <tbody>\n",
       "    <tr>\n",
       "      <th>0</th>\n",
       "      <td>3.0</td>\n",
       "      <td>4.569</td>\n",
       "      <td>6.57</td>\n",
       "    </tr>\n",
       "    <tr>\n",
       "      <th>1</th>\n",
       "      <td>4.0</td>\n",
       "      <td>6.169</td>\n",
       "      <td>4.86</td>\n",
       "    </tr>\n",
       "    <tr>\n",
       "      <th>2</th>\n",
       "      <td>5.0</td>\n",
       "      <td>6.909</td>\n",
       "      <td>4.34</td>\n",
       "    </tr>\n",
       "    <tr>\n",
       "      <th>3</th>\n",
       "      <td>6.0</td>\n",
       "      <td>7.311</td>\n",
       "      <td>4.10</td>\n",
       "    </tr>\n",
       "  </tbody>\n",
       "</table>\n",
       "</div>"
      ],
      "text/plain": [
       "     m  $\\eta, \\cdot 10^{14}c^{-1}$  $\\lambda, \\cdot 10^{-7}м$\n",
       "0  3.0                        4.569                       6.57\n",
       "1  4.0                        6.169                       4.86\n",
       "2  5.0                        6.909                       4.34\n",
       "3  6.0                        7.311                       4.10"
      ]
     },
     "execution_count": 56,
     "metadata": {},
     "output_type": "execute_result"
    }
   ],
   "source": [
    "measures = pd.DataFrame(data=cases, \n",
    "                        columns=[r\"m\",\n",
    "                                 r\"$\\eta, \\cdot 10^{14}c^{-1}$\",\n",
    "                                 r\"$\\lambda, \\cdot 10^{-7}м$\"])\n",
    "\n",
    "measures"
   ]
  },
  {
   "cell_type": "markdown",
   "metadata": {},
   "source": [
    "# Часть 4"
   ]
  },
  {
   "cell_type": "code",
   "execution_count": 57,
   "metadata": {
    "collapsed": true
   },
   "outputs": [],
   "source": [
    "cases = np.array([\n",
    "    [655, 4.58, 3.298],\n",
    "    [487.5,6.15, 3.282],\n",
    "    [435, 6.9, 3.284],\n",
    "    [410, 7.3, 3.293]\n",
    "])"
   ]
  },
  {
   "cell_type": "code",
   "execution_count": 58,
   "metadata": {},
   "outputs": [
    {
     "data": {
      "text/html": [
       "<div>\n",
       "<style>\n",
       "    .dataframe thead tr:only-child th {\n",
       "        text-align: right;\n",
       "    }\n",
       "\n",
       "    .dataframe thead th {\n",
       "        text-align: left;\n",
       "    }\n",
       "\n",
       "    .dataframe tbody tr th {\n",
       "        vertical-align: top;\n",
       "    }\n",
       "</style>\n",
       "<table border=\"1\" class=\"dataframe\">\n",
       "  <thead>\n",
       "    <tr style=\"text-align: right;\">\n",
       "      <th></th>\n",
       "      <th>$\\lambda, \\cdot 10^{-9}м$</th>\n",
       "      <th>$\\eta, \\cdot 10^{14}c^{-1}$</th>\n",
       "      <th>$R, \\cdot 10^{-15}$</th>\n",
       "    </tr>\n",
       "  </thead>\n",
       "  <tbody>\n",
       "    <tr>\n",
       "      <th>0</th>\n",
       "      <td>655.0</td>\n",
       "      <td>4.58</td>\n",
       "      <td>3.298</td>\n",
       "    </tr>\n",
       "    <tr>\n",
       "      <th>1</th>\n",
       "      <td>487.5</td>\n",
       "      <td>6.15</td>\n",
       "      <td>3.282</td>\n",
       "    </tr>\n",
       "    <tr>\n",
       "      <th>2</th>\n",
       "      <td>435.0</td>\n",
       "      <td>6.90</td>\n",
       "      <td>3.284</td>\n",
       "    </tr>\n",
       "    <tr>\n",
       "      <th>3</th>\n",
       "      <td>410.0</td>\n",
       "      <td>7.30</td>\n",
       "      <td>3.293</td>\n",
       "    </tr>\n",
       "  </tbody>\n",
       "</table>\n",
       "</div>"
      ],
      "text/plain": [
       "   $\\lambda, \\cdot 10^{-9}м$  $\\eta, \\cdot 10^{14}c^{-1}$  $R, \\cdot 10^{-15}$\n",
       "0                      655.0                         4.58                3.298\n",
       "1                      487.5                         6.15                3.282\n",
       "2                      435.0                         6.90                3.284\n",
       "3                      410.0                         7.30                3.293"
      ]
     },
     "execution_count": 58,
     "metadata": {},
     "output_type": "execute_result"
    }
   ],
   "source": [
    "measures = pd.DataFrame(data=cases, \n",
    "                        columns=[r\"$\\lambda, \\cdot 10^{-9}м$\",\n",
    "                                 r\"$\\eta, \\cdot 10^{14}c^{-1}$\",\n",
    "                                 r\"$R, \\cdot 10^{-15}$\"])\n",
    "\n",
    "measures"
   ]
  },
  {
   "cell_type": "markdown",
   "metadata": {},
   "source": [
    "$R_{cр} = 3.289 \\cdot 10^{15}$"
   ]
  },
  {
   "cell_type": "markdown",
   "metadata": {},
   "source": [
    "$\\delta(R_{ср}) = \\frac{|R1 - R| + |R2 - R| + |R3 - R| + |R4 - R|}{4} = 6 \\cdot 10^{12}$"
   ]
  },
  {
   "cell_type": "code",
   "execution_count": null,
   "metadata": {
    "collapsed": true
   },
   "outputs": [],
   "source": []
  }
 ],
 "metadata": {
  "kernelspec": {
   "display_name": "Python 3",
   "language": "python",
   "name": "python3"
  },
  "language_info": {
   "codemirror_mode": {
    "name": "ipython",
    "version": 3
   },
   "file_extension": ".py",
   "mimetype": "text/x-python",
   "name": "python",
   "nbconvert_exporter": "python",
   "pygments_lexer": "ipython3",
   "version": "3.6.1"
  }
 },
 "nbformat": 4,
 "nbformat_minor": 2
}
