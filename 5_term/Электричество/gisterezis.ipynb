{
 "cells": [
  {
   "cell_type": "code",
   "execution_count": 1,
   "metadata": {},
   "outputs": [
    {
     "data": {
      "text/html": [
       "<script>\n",
       "code_show=true; \n",
       "function code_toggle() {\n",
       " if (code_show){\n",
       " $('div.input').hide();\n",
       " } else {\n",
       " $('div.input').show();\n",
       " }\n",
       " code_show = !code_show\n",
       "} \n",
       "$( document ).ready(code_toggle);\n",
       "</script>\n",
       "<form action=\"javascript:code_toggle()\"><input type=\"submit\" value=\"Click here to toggle on/off the raw code.\"></form>"
      ],
      "text/plain": [
       "<IPython.core.display.HTML object>"
      ]
     },
     "execution_count": 1,
     "metadata": {},
     "output_type": "execute_result"
    }
   ],
   "source": [
    "from IPython.display import HTML\n",
    "\n",
    "HTML('''<script>\n",
    "code_show=true; \n",
    "function code_toggle() {\n",
    " if (code_show){\n",
    " $('div.input').hide();\n",
    " } else {\n",
    " $('div.input').show();\n",
    " }\n",
    " code_show = !code_show\n",
    "} \n",
    "$( document ).ready(code_toggle);\n",
    "</script>\n",
    "<form action=\"javascript:code_toggle()\"><input type=\"submit\" value=\"Click here to toggle on/off the raw code.\"></form>''')"
   ]
  },
  {
   "cell_type": "markdown",
   "metadata": {},
   "source": [
    "# Изучение магнитного и электрического гистерезиса\n",
    "## Цель работы: \n",
    "* исследовать поляризацию сегнетоэлектриков в зависимости от напряжённости приложенного электрического поля;\n",
    "* исследовать намагниченность ферромагнетиков в зависимости от напряжённости приложенного магнитного поля; \n",
    "* изучить явление гистерезиса на их примере"
   ]
  },
  {
   "cell_type": "markdown",
   "metadata": {},
   "source": [
    "## Сегнетоэлектрики"
   ]
  },
  {
   "cell_type": "code",
   "execution_count": 2,
   "metadata": {
    "collapsed": true
   },
   "outputs": [],
   "source": [
    "import numpy as np\n",
    "import pandas as pd\n",
    "import matplotlib.pyplot as plt\n",
    "%matplotlib inline\n",
    "\n",
    "def round2(f):\n",
    "    return round(f, 2)"
   ]
  },
  {
   "cell_type": "code",
   "execution_count": 3,
   "metadata": {},
   "outputs": [],
   "source": [
    "x = np.array([15, 12, 10, 8, 7, 5.5, 4, 3, 1.5, 1])"
   ]
  },
  {
   "cell_type": "code",
   "execution_count": 4,
   "metadata": {
    "collapsed": true
   },
   "outputs": [],
   "source": [
    "y = np.array([14, 12.5, 11.5, 9.5, 8, 6.5, 5, 4.5, 2, 1])"
   ]
  },
  {
   "cell_type": "code",
   "execution_count": 5,
   "metadata": {},
   "outputs": [],
   "source": [
    "N1 = 100\n",
    "N2 = 200\n",
    "R1 = 51\n",
    "R2 = 4300\n",
    "C = 0.00000022\n",
    "r1 = 0.018\n",
    "r2 = 0.009"
   ]
  },
  {
   "cell_type": "code",
   "execution_count": 6,
   "metadata": {
    "collapsed": true
   },
   "outputs": [],
   "source": [
    "Kx = 0.02 \n",
    "Ky = 0.5"
   ]
  },
  {
   "cell_type": "code",
   "execution_count": 7,
   "metadata": {},
   "outputs": [],
   "source": [
    "B = np.array(list(map(round2, R2*C*y*Ky/(5*N2*0.45) * 10000000)))"
   ]
  },
  {
   "cell_type": "code",
   "execution_count": 8,
   "metadata": {},
   "outputs": [],
   "source": [
    "H = np.array(list(map(round2, 2*N1*x*Kx/(5*((r1+r2)/2)*R1))))"
   ]
  },
  {
   "cell_type": "code",
   "execution_count": 9,
   "metadata": {},
   "outputs": [
    {
     "data": {
      "image/png": "[encoded data removed]",
      "text/plain": [
       "<matplotlib.figure.Figure at 0x1e2fac5be10>"
      ]
     },
     "metadata": {},
     "output_type": "display_data"
    }
   ],
   "source": [
    "fig = plt.figure(figsize=(14, 9))\n",
    "plt.scatter(H, B)\n",
    "plt.xlabel(\"H, 10^-5 * Эрстед\")\n",
    "plt.ylabel(\"B, 10^-6 * Гаусс\")\n",
    "plt.show()"
   ]
  },
  {
   "cell_type": "code",
   "execution_count": 10,
   "metadata": {},
   "outputs": [],
   "source": [
    "mu = np.array(list(map(round2, B/H)))"
   ]
  },
  {
   "cell_type": "code",
   "execution_count": 11,
   "metadata": {},
   "outputs": [
    {
     "data": {
      "image/png": "[encoded data removed]",
      "text/plain": [
       "<matplotlib.figure.Figure at 0x1e2fd75fb38>"
      ]
     },
     "metadata": {},
     "output_type": "display_data"
    }
   ],
   "source": [
    "fig = plt.figure(figsize=(14, 9))\n",
    "plt.scatter(H, mu)\n",
    "plt.xlabel(\"H, 10^-5 Эрстед\")\n",
    "plt.ylabel(\"$\\mu$\")\n",
    "plt.show()"
   ]
  },
  {
   "cell_type": "code",
   "execution_count": 12,
   "metadata": {},
   "outputs": [
    {
     "data": {
      "text/html": [
       "<div>\n",
       "<style>\n",
       "    .dataframe thead tr:only-child th {\n",
       "        text-align: right;\n",
       "    }\n",
       "\n",
       "    .dataframe thead th {\n",
       "        text-align: left;\n",
       "    }\n",
       "\n",
       "    .dataframe tbody tr th {\n",
       "        vertical-align: top;\n",
       "    }\n",
       "</style>\n",
       "<table border=\"1\" class=\"dataframe\">\n",
       "  <thead>\n",
       "    <tr style=\"text-align: right;\">\n",
       "      <th></th>\n",
       "      <th>x</th>\n",
       "      <th>y</th>\n",
       "      <th>B</th>\n",
       "      <th>H</th>\n",
       "      <th>$\\mu$</th>\n",
       "    </tr>\n",
       "  </thead>\n",
       "  <tbody>\n",
       "    <tr>\n",
       "      <th>0</th>\n",
       "      <td>15.0</td>\n",
       "      <td>14.0</td>\n",
       "      <td>147.16</td>\n",
       "      <td>17.43</td>\n",
       "      <td>8.44</td>\n",
       "    </tr>\n",
       "    <tr>\n",
       "      <th>1</th>\n",
       "      <td>12.0</td>\n",
       "      <td>12.5</td>\n",
       "      <td>131.39</td>\n",
       "      <td>13.94</td>\n",
       "      <td>9.43</td>\n",
       "    </tr>\n",
       "    <tr>\n",
       "      <th>2</th>\n",
       "      <td>10.0</td>\n",
       "      <td>11.5</td>\n",
       "      <td>120.88</td>\n",
       "      <td>11.62</td>\n",
       "      <td>10.40</td>\n",
       "    </tr>\n",
       "    <tr>\n",
       "      <th>3</th>\n",
       "      <td>8.0</td>\n",
       "      <td>9.5</td>\n",
       "      <td>99.86</td>\n",
       "      <td>9.30</td>\n",
       "      <td>10.74</td>\n",
       "    </tr>\n",
       "    <tr>\n",
       "      <th>4</th>\n",
       "      <td>7.0</td>\n",
       "      <td>8.0</td>\n",
       "      <td>84.09</td>\n",
       "      <td>8.13</td>\n",
       "      <td>10.34</td>\n",
       "    </tr>\n",
       "    <tr>\n",
       "      <th>5</th>\n",
       "      <td>5.5</td>\n",
       "      <td>6.5</td>\n",
       "      <td>68.32</td>\n",
       "      <td>6.39</td>\n",
       "      <td>10.69</td>\n",
       "    </tr>\n",
       "    <tr>\n",
       "      <th>6</th>\n",
       "      <td>4.0</td>\n",
       "      <td>5.0</td>\n",
       "      <td>52.56</td>\n",
       "      <td>4.65</td>\n",
       "      <td>11.30</td>\n",
       "    </tr>\n",
       "    <tr>\n",
       "      <th>7</th>\n",
       "      <td>3.0</td>\n",
       "      <td>4.5</td>\n",
       "      <td>47.30</td>\n",
       "      <td>3.49</td>\n",
       "      <td>13.55</td>\n",
       "    </tr>\n",
       "    <tr>\n",
       "      <th>8</th>\n",
       "      <td>1.5</td>\n",
       "      <td>2.0</td>\n",
       "      <td>21.02</td>\n",
       "      <td>1.74</td>\n",
       "      <td>12.08</td>\n",
       "    </tr>\n",
       "    <tr>\n",
       "      <th>9</th>\n",
       "      <td>1.0</td>\n",
       "      <td>1.0</td>\n",
       "      <td>10.51</td>\n",
       "      <td>1.16</td>\n",
       "      <td>9.06</td>\n",
       "    </tr>\n",
       "  </tbody>\n",
       "</table>\n",
       "</div>"
      ],
      "text/plain": [
       "      x     y       B      H  $\\mu$\n",
       "0  15.0  14.0  147.16  17.43   8.44\n",
       "1  12.0  12.5  131.39  13.94   9.43\n",
       "2  10.0  11.5  120.88  11.62  10.40\n",
       "3   8.0   9.5   99.86   9.30  10.74\n",
       "4   7.0   8.0   84.09   8.13  10.34\n",
       "5   5.5   6.5   68.32   6.39  10.69\n",
       "6   4.0   5.0   52.56   4.65  11.30\n",
       "7   3.0   4.5   47.30   3.49  13.55\n",
       "8   1.5   2.0   21.02   1.74  12.08\n",
       "9   1.0   1.0   10.51   1.16   9.06"
      ]
     },
     "execution_count": 12,
     "metadata": {},
     "output_type": "execute_result"
    }
   ],
   "source": [
    "n = len(x)\n",
    "measures = pd.DataFrame(data=np.hstack((np.reshape(x, (n, 1)),\n",
    "                                        np.reshape(y, (n, 1)),\n",
    "                                        np.reshape(B, (n, 1)),\n",
    "                                        np.reshape(H, (n, 1)),\n",
    "                                        np.reshape(mu,(n, 1)))), \n",
    "                        columns=[r\"x\", \n",
    "                                 r\"y\",\n",
    "                                 r\"B\",\n",
    "                                 r\"H\",\n",
    "                                 r\"$\\mu$\"])\n",
    "measures"
   ]
  },
  {
   "cell_type": "code",
   "execution_count": 13,
   "metadata": {},
   "outputs": [
    {
     "name": "stdout",
     "output_type": "stream",
     "text": [
      "Максимальная магнитная проницаемость:  13.55\n"
     ]
    }
   ],
   "source": [
    "print(\"Максимальная магнитная проницаемость: \", round(mu.max(), 2))"
   ]
  },
  {
   "cell_type": "code",
   "execution_count": 14,
   "metadata": {},
   "outputs": [
    {
     "name": "stdout",
     "output_type": "stream",
     "text": [
      "Средняя магнитная проницаемость:  10.6\n"
     ]
    }
   ],
   "source": [
    "print(\"Средняя магнитная проницаемость: \", round(mu.mean(), 2))"
   ]
  },
  {
   "cell_type": "code",
   "execution_count": 15,
   "metadata": {
    "collapsed": true
   },
   "outputs": [],
   "source": [
    "Br = round2(R2*C*7*0.5/(5*N2*0.45) * 1000000)"
   ]
  },
  {
   "cell_type": "code",
   "execution_count": 16,
   "metadata": {
    "collapsed": true
   },
   "outputs": [],
   "source": [
    "Hc =  round2(2*N1*5*0.02/(5*((r1+r2)/2)*R1))"
   ]
  },
  {
   "cell_type": "code",
   "execution_count": 17,
   "metadata": {
    "collapsed": true
   },
   "outputs": [],
   "source": [
    "Bh = round2(R2*C*19*0.5/(5*N2*0.45) * 10000000)"
   ]
  },
  {
   "cell_type": "code",
   "execution_count": 18,
   "metadata": {
    "collapsed": true
   },
   "outputs": [],
   "source": [
    "Hh =  round2(2*N1*15.5*0.02/(5*((r1+r2)/2)*R1) * 10)"
   ]
  },
  {
   "cell_type": "code",
   "execution_count": 19,
   "metadata": {},
   "outputs": [
    {
     "name": "stdout",
     "output_type": "stream",
     "text": [
      "Mh =  1.56\n"
     ]
    }
   ],
   "source": [
    "print(\"Mh = \", round2((Bh - Hh)/(4*np.pi)))"
   ]
  },
  {
   "cell_type": "code",
   "execution_count": 20,
   "metadata": {},
   "outputs": [
    {
     "name": "stdout",
     "output_type": "stream",
     "text": [
      "Hc =  5.81\n",
      "Br =  7.36\n"
     ]
    }
   ],
   "source": [
    "print(\"Hc = \", Hc)\n",
    "print(\"Br = \", Br)"
   ]
  },
  {
   "cell_type": "markdown",
   "metadata": {},
   "source": [
    "## Ферромагнетики"
   ]
  },
  {
   "cell_type": "code",
   "execution_count": 21,
   "metadata": {
    "collapsed": true
   },
   "outputs": [],
   "source": [
    "x = np.array([13, 12, 11, 10, 9, 15*0.5, 13*0.5, 5, 2.5, 1, 0.15])\n",
    "y = np.array([13*5, 12*5, 8*5, 6.5*5, 4*5, 6,3, 2, 1, 6*0.05, 3.5*0.05])\n",
    "V = np.array([75.1, 66.6, 60.6, 55.3, 50.9, 41.7, 34.6, 26.9, 13.1, 5.3, 0.7])"
   ]
  },
  {
   "cell_type": "code",
   "execution_count": 22,
   "metadata": {
    "collapsed": true
   },
   "outputs": [],
   "source": [
    "h = 0.1 \n",
    "S = 6 * 3.5 *0.01\n",
    "C2 = 0.047\n",
    "R1 = 470 * 0.001\n",
    "R2 = 11 * 0.001"
   ]
  },
  {
   "cell_type": "code",
   "execution_count": 23,
   "metadata": {},
   "outputs": [],
   "source": [
    "D = np.array(list(map(round2, 12*np.pi*1000*h*C2*y/(5*S))))\n",
    "E = np.array(list(map(round2,np.sqrt(2)*V/(300*h))))"
   ]
  },
  {
   "cell_type": "code",
   "execution_count": 24,
   "metadata": {},
   "outputs": [
    {
     "data": {
      "image/png": "[encoded data removed]",
      "text/plain": [
       "<matplotlib.figure.Figure at 0x1e2fe516978>"
      ]
     },
     "metadata": {},
     "output_type": "display_data"
    }
   ],
   "source": [
    "fig = plt.figure(figsize=(16, 8))\n",
    "plt.scatter(E[:-1], D[:-1])\n",
    "\n",
    "plt.xlabel(\"$E_m$, ед. CГС\")\n",
    "plt.ylabel(\"$D_m$, ед. СГС\")\n",
    "plt.show()"
   ]
  },
  {
   "cell_type": "code",
   "execution_count": 25,
   "metadata": {
    "collapsed": true
   },
   "outputs": [],
   "source": [
    "eps = np.array(list(map(round2, D / E)))"
   ]
  },
  {
   "cell_type": "code",
   "execution_count": 26,
   "metadata": {
    "scrolled": false
   },
   "outputs": [
    {
     "data": {
      "image/png": "[encoded data removed]",
      "text/plain": [
       "<matplotlib.figure.Figure at 0x1e2fd779e10>"
      ]
     },
     "metadata": {},
     "output_type": "display_data"
    }
   ],
   "source": [
    "fig = plt.figure(figsize=(16, 8))\n",
    "plt.scatter(E[:-1], eps[:-1])\n",
    "plt.xlabel(r\"$E_m$, ед. СГС\", fontsize=16)\n",
    "plt.ylabel(r\"$\\varepsilon$\", fontsize=16)\n",
    "plt.title(\"Зависимость диэлектрической проницаемости от электрического поля\", fontsize=16)\n",
    "plt.show()"
   ]
  },
  {
   "cell_type": "code",
   "execution_count": 27,
   "metadata": {},
   "outputs": [
    {
     "data": {
      "text/html": [
       "<div>\n",
       "<style>\n",
       "    .dataframe thead tr:only-child th {\n",
       "        text-align: right;\n",
       "    }\n",
       "\n",
       "    .dataframe thead th {\n",
       "        text-align: left;\n",
       "    }\n",
       "\n",
       "    .dataframe tbody tr th {\n",
       "        vertical-align: top;\n",
       "    }\n",
       "</style>\n",
       "<table border=\"1\" class=\"dataframe\">\n",
       "  <thead>\n",
       "    <tr style=\"text-align: right;\">\n",
       "      <th></th>\n",
       "      <th>x</th>\n",
       "      <th>y</th>\n",
       "      <th>V</th>\n",
       "      <th>D</th>\n",
       "      <th>E</th>\n",
       "      <th>$\\varepsilon$</th>\n",
       "    </tr>\n",
       "  </thead>\n",
       "  <tbody>\n",
       "    <tr>\n",
       "      <th>0</th>\n",
       "      <td>13.00</td>\n",
       "      <td>65.000</td>\n",
       "      <td>75.1</td>\n",
       "      <td>10968.65</td>\n",
       "      <td>3.54</td>\n",
       "      <td>3098.49</td>\n",
       "    </tr>\n",
       "    <tr>\n",
       "      <th>1</th>\n",
       "      <td>12.00</td>\n",
       "      <td>60.000</td>\n",
       "      <td>66.6</td>\n",
       "      <td>10124.90</td>\n",
       "      <td>3.14</td>\n",
       "      <td>3224.49</td>\n",
       "    </tr>\n",
       "    <tr>\n",
       "      <th>2</th>\n",
       "      <td>11.00</td>\n",
       "      <td>40.000</td>\n",
       "      <td>60.6</td>\n",
       "      <td>6749.94</td>\n",
       "      <td>2.86</td>\n",
       "      <td>2360.12</td>\n",
       "    </tr>\n",
       "    <tr>\n",
       "      <th>3</th>\n",
       "      <td>10.00</td>\n",
       "      <td>32.500</td>\n",
       "      <td>55.3</td>\n",
       "      <td>5484.32</td>\n",
       "      <td>2.61</td>\n",
       "      <td>2101.27</td>\n",
       "    </tr>\n",
       "    <tr>\n",
       "      <th>4</th>\n",
       "      <td>9.00</td>\n",
       "      <td>20.000</td>\n",
       "      <td>50.9</td>\n",
       "      <td>3374.97</td>\n",
       "      <td>2.40</td>\n",
       "      <td>1406.24</td>\n",
       "    </tr>\n",
       "    <tr>\n",
       "      <th>5</th>\n",
       "      <td>7.50</td>\n",
       "      <td>6.000</td>\n",
       "      <td>41.7</td>\n",
       "      <td>1012.49</td>\n",
       "      <td>1.97</td>\n",
       "      <td>513.95</td>\n",
       "    </tr>\n",
       "    <tr>\n",
       "      <th>6</th>\n",
       "      <td>6.50</td>\n",
       "      <td>3.000</td>\n",
       "      <td>34.6</td>\n",
       "      <td>506.25</td>\n",
       "      <td>1.63</td>\n",
       "      <td>310.58</td>\n",
       "    </tr>\n",
       "    <tr>\n",
       "      <th>7</th>\n",
       "      <td>5.00</td>\n",
       "      <td>2.000</td>\n",
       "      <td>26.9</td>\n",
       "      <td>337.50</td>\n",
       "      <td>1.27</td>\n",
       "      <td>265.75</td>\n",
       "    </tr>\n",
       "    <tr>\n",
       "      <th>8</th>\n",
       "      <td>2.50</td>\n",
       "      <td>1.000</td>\n",
       "      <td>13.1</td>\n",
       "      <td>168.75</td>\n",
       "      <td>0.62</td>\n",
       "      <td>272.18</td>\n",
       "    </tr>\n",
       "    <tr>\n",
       "      <th>9</th>\n",
       "      <td>1.00</td>\n",
       "      <td>0.300</td>\n",
       "      <td>5.3</td>\n",
       "      <td>50.62</td>\n",
       "      <td>0.25</td>\n",
       "      <td>202.48</td>\n",
       "    </tr>\n",
       "    <tr>\n",
       "      <th>10</th>\n",
       "      <td>0.15</td>\n",
       "      <td>0.175</td>\n",
       "      <td>0.7</td>\n",
       "      <td>29.53</td>\n",
       "      <td>0.03</td>\n",
       "      <td>984.33</td>\n",
       "    </tr>\n",
       "  </tbody>\n",
       "</table>\n",
       "</div>"
      ],
      "text/plain": [
       "        x       y     V         D     E  $\\varepsilon$\n",
       "0   13.00  65.000  75.1  10968.65  3.54        3098.49\n",
       "1   12.00  60.000  66.6  10124.90  3.14        3224.49\n",
       "2   11.00  40.000  60.6   6749.94  2.86        2360.12\n",
       "3   10.00  32.500  55.3   5484.32  2.61        2101.27\n",
       "4    9.00  20.000  50.9   3374.97  2.40        1406.24\n",
       "5    7.50   6.000  41.7   1012.49  1.97         513.95\n",
       "6    6.50   3.000  34.6    506.25  1.63         310.58\n",
       "7    5.00   2.000  26.9    337.50  1.27         265.75\n",
       "8    2.50   1.000  13.1    168.75  0.62         272.18\n",
       "9    1.00   0.300   5.3     50.62  0.25         202.48\n",
       "10   0.15   0.175   0.7     29.53  0.03         984.33"
      ]
     },
     "execution_count": 27,
     "metadata": {},
     "output_type": "execute_result"
    }
   ],
   "source": [
    "n = len(x)\n",
    "measures = pd.DataFrame(data=np.hstack((np.reshape(x,  (n, 1)),\n",
    "                                        np.reshape(y,  (n, 1)),\n",
    "                                        np.reshape(V,  (n, 1)),\n",
    "                                        np.reshape(D,  (n, 1)),\n",
    "                                        np.reshape(E,  (n, 1)),\n",
    "                                        np.reshape(eps,(n, 1)))), \n",
    "                        columns=[r\"x\", \n",
    "                                 r\"y\",\n",
    "                                 r\"V\",\n",
    "                                 r\"D\",\n",
    "                                 r\"E\",\n",
    "                                 r\"$\\varepsilon$\"])\n",
    "measures"
   ]
  },
  {
   "cell_type": "code",
   "execution_count": 28,
   "metadata": {},
   "outputs": [
    {
     "name": "stdout",
     "output_type": "stream",
     "text": [
      "Максимальная диэлектрическая проницаемость:  3224.49\n"
     ]
    }
   ],
   "source": [
    "print(\"Максимальная диэлектрическая проницаемость: \", round2(eps.max()))"
   ]
  },
  {
   "cell_type": "code",
   "execution_count": 29,
   "metadata": {},
   "outputs": [
    {
     "name": "stdout",
     "output_type": "stream",
     "text": [
      "Средняя диэлектрическая проницаемость среды :  1339.99\n"
     ]
    }
   ],
   "source": [
    "print(\"Средняя диэлектрическая проницаемость среды : \", round2(eps.mean()))"
   ]
  },
  {
   "cell_type": "code",
   "execution_count": 30,
   "metadata": {
    "collapsed": true
   },
   "outputs": [],
   "source": [
    "Dh = 12*np.pi*1000*h*C2*13.5*5/(5*S)\n",
    "Eh = (R1+R2)/(300*R2*5*h)*15"
   ]
  },
  {
   "cell_type": "code",
   "execution_count": 31,
   "metadata": {},
   "outputs": [
    {
     "name": "stdout",
     "output_type": "stream",
     "text": [
      "Поляризация в насыщенном состоянии:  906.08\n"
     ]
    }
   ],
   "source": [
    "print(\"Поляризация в насыщенном состоянии: \", round2((Dh-Eh)/(4*np.pi)))"
   ]
  },
  {
   "cell_type": "code",
   "execution_count": 32,
   "metadata": {
    "collapsed": true
   },
   "outputs": [],
   "source": [
    "Dr = 12*np.pi*1000*h*C2*11*5/(5*S)\n",
    "Ec = (R1+R2)/(300*R2*5*h)*12"
   ]
  },
  {
   "cell_type": "code",
   "execution_count": 33,
   "metadata": {},
   "outputs": [
    {
     "name": "stdout",
     "output_type": "stream",
     "text": [
      "D_r:  9281.162296605275 \n",
      "E_c:  3.498181818181818\n"
     ]
    }
   ],
   "source": [
    "print(\"D_r: \", Dr, '\\nE_c: ', Ec)"
   ]
  },
  {
   "cell_type": "code",
   "execution_count": null,
   "metadata": {
    "collapsed": true
   },
   "outputs": [],
   "source": []
  },
  {
   "cell_type": "code",
   "execution_count": null,
   "metadata": {
    "collapsed": true
   },
   "outputs": [],
   "source": []
  }
 ],
 "metadata": {
  "kernelspec": {
   "display_name": "Python 3",
   "language": "python",
   "name": "python3"
  },
  "language_info": {
   "codemirror_mode": {
    "name": "ipython",
    "version": 3
   },
   "file_extension": ".py",
   "mimetype": "text/x-python",
   "name": "python",
   "nbconvert_exporter": "python",
   "pygments_lexer": "ipython3",
   "version": "3.5.2"
  }
 },
 "nbformat": 4,
 "nbformat_minor": 2
}
