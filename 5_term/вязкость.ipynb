{
 "cells": [
  {
   "cell_type": "code",
   "execution_count": 13,
   "metadata": {
    "collapsed": false
   },
   "outputs": [
    {
     "data": {
      "text/html": [
       "<script>\n",
       "code_show=true; \n",
       "function code_toggle() {\n",
       " if (code_show){\n",
       " $('div.input').hide();\n",
       " } else {\n",
       " $('div.input').show();\n",
       " }\n",
       " code_show = !code_show\n",
       "} \n",
       "$( document ).ready(code_toggle);\n",
       "</script>\n",
       "<form action=\"javascript:code_toggle()\"><input type=\"submit\" value=\"Click here to toggle on/off the raw code.\"></form>"
      ],
      "text/plain": [
       "<IPython.core.display.HTML object>"
      ]
     },
     "execution_count": 13,
     "metadata": {},
     "output_type": "execute_result"
    }
   ],
   "source": [
    "from IPython.display import HTML\n",
    "\n",
    "HTML('''<script>\n",
    "code_show=true; \n",
    "function code_toggle() {\n",
    " if (code_show){\n",
    " $('div.input').hide();\n",
    " } else {\n",
    " $('div.input').show();\n",
    " }\n",
    " code_show = !code_show\n",
    "} \n",
    "$( document ).ready(code_toggle);\n",
    "</script>\n",
    "<form action=\"javascript:code_toggle()\"><input type=\"submit\" value=\"Click here to toggle on/off the raw code.\"></form>''')"
   ]
  },
  {
   "cell_type": "code",
   "execution_count": 1,
   "metadata": {
    "collapsed": true
   },
   "outputs": [],
   "source": [
    "import numpy as np\n",
    "import pandas as pd\n",
    "import matplotlib.pyplot as plt"
   ]
  },
  {
   "cell_type": "code",
   "execution_count": 2,
   "metadata": {
    "collapsed": true
   },
   "outputs": [],
   "source": [
    "gamma = 0.8095 # г/см ^ 3\n",
    "p_koef = 0.2\n",
    "l = 50"
   ]
  },
  {
   "cell_type": "code",
   "execution_count": 3,
   "metadata": {
    "collapsed": true
   },
   "outputs": [],
   "source": [
    "d1 = 3.85 # +- 0.05 мм\n",
    "initial_p_1 = 13 # мм спиртового столба\n",
    "ps1 = np.array([20   , 25   , 30   , 35.5 ,41   ,50   ,60  , 70  , 81  , 91 , 100 , 120 , 140 , 158 ,])\n",
    "ts1 = np.array([49.09, 32.84, 21.21, 16.31,13.68,10.06,8.36, 7.13, 5.72,5.15, 5.12, 4.93, 4.16, 4.12,])\n",
    "vs1 = np.array([0.5  , 0.5  , 0.5  , 0.5  ,0.5  ,0.5  ,0.5 , 0.5 , 0.5 , 0.5, 0.5 , 0.5 , 0.5 , 0.5 ,])"
   ]
  },
  {
   "cell_type": "code",
   "execution_count": 4,
   "metadata": {
    "collapsed": false
   },
   "outputs": [],
   "source": [
    "d2 = 5.25 # +- 0.05 мм\n",
    "initial_p_2 = 13.5\n",
    "ps2 = np.array([20   , 25   , 30   , 35   ,40  ,48  ,60  , 70  , 80  , 90 , 100 , 120 , 140 ])\n",
    "ts2 = np.array([37.29, 21.87, 14.41, 11.19,9.09,7.10,7.83, 6.69, 5.84,5.59, 5.03, 4.59, 4.53])\n",
    "vs2 = np.array([1    , 1    ,  1   ,   1  ,  1 ,  1 ,1   ,   1 , 1   , 1  , 1   , 1   , 1   ])"
   ]
  },
  {
   "cell_type": "code",
   "execution_count": 5,
   "metadata": {
    "collapsed": false
   },
   "outputs": [
    {
     "data": {
      "text/html": [
       "<div>\n",
       "<table border=\"1\" class=\"dataframe\">\n",
       "  <thead>\n",
       "    <tr style=\"text-align: right;\">\n",
       "      <th></th>\n",
       "      <th>Диаметр трубки, $мм$</th>\n",
       "      <th>Давление, $мм~спиртового~столба$</th>\n",
       "      <th>Время, $с$</th>\n",
       "      <th>Объем, $дм^3$</th>\n",
       "    </tr>\n",
       "  </thead>\n",
       "  <tbody>\n",
       "    <tr>\n",
       "      <th>0</th>\n",
       "      <td>3.85</td>\n",
       "      <td>1.4</td>\n",
       "      <td>49.09</td>\n",
       "      <td>0.5</td>\n",
       "    </tr>\n",
       "    <tr>\n",
       "      <th>1</th>\n",
       "      <td>3.85</td>\n",
       "      <td>2.4</td>\n",
       "      <td>32.84</td>\n",
       "      <td>0.5</td>\n",
       "    </tr>\n",
       "    <tr>\n",
       "      <th>2</th>\n",
       "      <td>3.85</td>\n",
       "      <td>3.4</td>\n",
       "      <td>21.21</td>\n",
       "      <td>0.5</td>\n",
       "    </tr>\n",
       "    <tr>\n",
       "      <th>3</th>\n",
       "      <td>3.85</td>\n",
       "      <td>4.5</td>\n",
       "      <td>16.31</td>\n",
       "      <td>0.5</td>\n",
       "    </tr>\n",
       "    <tr>\n",
       "      <th>4</th>\n",
       "      <td>3.85</td>\n",
       "      <td>5.6</td>\n",
       "      <td>13.68</td>\n",
       "      <td>0.5</td>\n",
       "    </tr>\n",
       "    <tr>\n",
       "      <th>5</th>\n",
       "      <td>3.85</td>\n",
       "      <td>7.4</td>\n",
       "      <td>10.06</td>\n",
       "      <td>0.5</td>\n",
       "    </tr>\n",
       "    <tr>\n",
       "      <th>6</th>\n",
       "      <td>3.85</td>\n",
       "      <td>9.4</td>\n",
       "      <td>8.36</td>\n",
       "      <td>0.5</td>\n",
       "    </tr>\n",
       "    <tr>\n",
       "      <th>7</th>\n",
       "      <td>3.85</td>\n",
       "      <td>11.4</td>\n",
       "      <td>7.13</td>\n",
       "      <td>0.5</td>\n",
       "    </tr>\n",
       "    <tr>\n",
       "      <th>8</th>\n",
       "      <td>3.85</td>\n",
       "      <td>13.6</td>\n",
       "      <td>5.72</td>\n",
       "      <td>0.5</td>\n",
       "    </tr>\n",
       "    <tr>\n",
       "      <th>9</th>\n",
       "      <td>3.85</td>\n",
       "      <td>15.6</td>\n",
       "      <td>5.15</td>\n",
       "      <td>0.5</td>\n",
       "    </tr>\n",
       "    <tr>\n",
       "      <th>10</th>\n",
       "      <td>3.85</td>\n",
       "      <td>17.4</td>\n",
       "      <td>5.12</td>\n",
       "      <td>0.5</td>\n",
       "    </tr>\n",
       "    <tr>\n",
       "      <th>11</th>\n",
       "      <td>3.85</td>\n",
       "      <td>21.4</td>\n",
       "      <td>4.93</td>\n",
       "      <td>0.5</td>\n",
       "    </tr>\n",
       "    <tr>\n",
       "      <th>12</th>\n",
       "      <td>3.85</td>\n",
       "      <td>25.4</td>\n",
       "      <td>4.16</td>\n",
       "      <td>0.5</td>\n",
       "    </tr>\n",
       "    <tr>\n",
       "      <th>13</th>\n",
       "      <td>3.85</td>\n",
       "      <td>29.0</td>\n",
       "      <td>4.12</td>\n",
       "      <td>0.5</td>\n",
       "    </tr>\n",
       "    <tr>\n",
       "      <th>14</th>\n",
       "      <td>5.25</td>\n",
       "      <td>1.3</td>\n",
       "      <td>37.29</td>\n",
       "      <td>1.0</td>\n",
       "    </tr>\n",
       "    <tr>\n",
       "      <th>15</th>\n",
       "      <td>5.25</td>\n",
       "      <td>2.3</td>\n",
       "      <td>21.87</td>\n",
       "      <td>1.0</td>\n",
       "    </tr>\n",
       "    <tr>\n",
       "      <th>16</th>\n",
       "      <td>5.25</td>\n",
       "      <td>3.3</td>\n",
       "      <td>14.41</td>\n",
       "      <td>1.0</td>\n",
       "    </tr>\n",
       "    <tr>\n",
       "      <th>17</th>\n",
       "      <td>5.25</td>\n",
       "      <td>4.3</td>\n",
       "      <td>11.19</td>\n",
       "      <td>1.0</td>\n",
       "    </tr>\n",
       "    <tr>\n",
       "      <th>18</th>\n",
       "      <td>5.25</td>\n",
       "      <td>5.3</td>\n",
       "      <td>9.09</td>\n",
       "      <td>1.0</td>\n",
       "    </tr>\n",
       "    <tr>\n",
       "      <th>19</th>\n",
       "      <td>5.25</td>\n",
       "      <td>6.9</td>\n",
       "      <td>7.10</td>\n",
       "      <td>1.0</td>\n",
       "    </tr>\n",
       "    <tr>\n",
       "      <th>20</th>\n",
       "      <td>5.25</td>\n",
       "      <td>9.3</td>\n",
       "      <td>7.83</td>\n",
       "      <td>1.0</td>\n",
       "    </tr>\n",
       "    <tr>\n",
       "      <th>21</th>\n",
       "      <td>5.25</td>\n",
       "      <td>11.3</td>\n",
       "      <td>6.69</td>\n",
       "      <td>1.0</td>\n",
       "    </tr>\n",
       "    <tr>\n",
       "      <th>22</th>\n",
       "      <td>5.25</td>\n",
       "      <td>13.3</td>\n",
       "      <td>5.84</td>\n",
       "      <td>1.0</td>\n",
       "    </tr>\n",
       "    <tr>\n",
       "      <th>23</th>\n",
       "      <td>5.25</td>\n",
       "      <td>15.3</td>\n",
       "      <td>5.59</td>\n",
       "      <td>1.0</td>\n",
       "    </tr>\n",
       "    <tr>\n",
       "      <th>24</th>\n",
       "      <td>5.25</td>\n",
       "      <td>17.3</td>\n",
       "      <td>5.03</td>\n",
       "      <td>1.0</td>\n",
       "    </tr>\n",
       "    <tr>\n",
       "      <th>25</th>\n",
       "      <td>5.25</td>\n",
       "      <td>21.3</td>\n",
       "      <td>4.59</td>\n",
       "      <td>1.0</td>\n",
       "    </tr>\n",
       "    <tr>\n",
       "      <th>26</th>\n",
       "      <td>5.25</td>\n",
       "      <td>25.3</td>\n",
       "      <td>4.53</td>\n",
       "      <td>1.0</td>\n",
       "    </tr>\n",
       "  </tbody>\n",
       "</table>\n",
       "</div>"
      ],
      "text/plain": [
       "    Диаметр трубки, $мм$  Давление, $мм~спиртового~столба$  Время, $с$  \\\n",
       "0                   3.85                               1.4       49.09   \n",
       "1                   3.85                               2.4       32.84   \n",
       "2                   3.85                               3.4       21.21   \n",
       "3                   3.85                               4.5       16.31   \n",
       "4                   3.85                               5.6       13.68   \n",
       "5                   3.85                               7.4       10.06   \n",
       "6                   3.85                               9.4        8.36   \n",
       "7                   3.85                              11.4        7.13   \n",
       "8                   3.85                              13.6        5.72   \n",
       "9                   3.85                              15.6        5.15   \n",
       "10                  3.85                              17.4        5.12   \n",
       "11                  3.85                              21.4        4.93   \n",
       "12                  3.85                              25.4        4.16   \n",
       "13                  3.85                              29.0        4.12   \n",
       "14                  5.25                               1.3       37.29   \n",
       "15                  5.25                               2.3       21.87   \n",
       "16                  5.25                               3.3       14.41   \n",
       "17                  5.25                               4.3       11.19   \n",
       "18                  5.25                               5.3        9.09   \n",
       "19                  5.25                               6.9        7.10   \n",
       "20                  5.25                               9.3        7.83   \n",
       "21                  5.25                              11.3        6.69   \n",
       "22                  5.25                              13.3        5.84   \n",
       "23                  5.25                              15.3        5.59   \n",
       "24                  5.25                              17.3        5.03   \n",
       "25                  5.25                              21.3        4.59   \n",
       "26                  5.25                              25.3        4.53   \n",
       "\n",
       "    Объем, $дм^3$  \n",
       "0             0.5  \n",
       "1             0.5  \n",
       "2             0.5  \n",
       "3             0.5  \n",
       "4             0.5  \n",
       "5             0.5  \n",
       "6             0.5  \n",
       "7             0.5  \n",
       "8             0.5  \n",
       "9             0.5  \n",
       "10            0.5  \n",
       "11            0.5  \n",
       "12            0.5  \n",
       "13            0.5  \n",
       "14            1.0  \n",
       "15            1.0  \n",
       "16            1.0  \n",
       "17            1.0  \n",
       "18            1.0  \n",
       "19            1.0  \n",
       "20            1.0  \n",
       "21            1.0  \n",
       "22            1.0  \n",
       "23            1.0  \n",
       "24            1.0  \n",
       "25            1.0  \n",
       "26            1.0  "
      ]
     },
     "execution_count": 5,
     "metadata": {},
     "output_type": "execute_result"
    }
   ],
   "source": [
    "measures = []\n",
    "for p, t, v in zip(ps1, ts1, vs1):\n",
    "    measures.append([d1, (p - initial_p_1) * p_koef, t, v])\n",
    "for p, t, v in zip(ps2, ts2, vs2):\n",
    "    measures.append([d2, (p - initial_p_2) * p_koef, t, v])\n",
    "measures = np.array(measures)\n",
    "\n",
    "df = pd.DataFrame(data=measures, columns=[r\"Диаметр трубки, $мм$\",\n",
    "                                          r\"Давление, $мм~спиртового~столба$\",\n",
    "                                          r\"Время, $с$\",\n",
    "                                          r\"Объем, $дм^3$\"])\n",
    "\n",
    "df"
   ]
  },
  {
   "cell_type": "code",
   "execution_count": 11,
   "metadata": {
    "collapsed": false
   },
   "outputs": [
    {
     "data": {
      "image/png": "[encoded data removed]",
      "text/plain": [
       "<matplotlib.figure.Figure at 0x7ff0ca36f9b0>"
      ]
     },
     "metadata": {},
     "output_type": "display_data"
    }
   ],
   "source": [
    "all_x = ps1\n",
    "all_y = vs1 / ts1\n",
    "\n",
    "linear_prefix_len = 9\n",
    "linear_x = all_x[:linear_prefix_len]\n",
    "linear_y = all_y[:linear_prefix_len]\n",
    "\n",
    "grid = np.linspace(np.min(linear_x), np.max(linear_x), 500)\n",
    "\n",
    "plt.figure(figsize=(15, 8))\n",
    "plt.scatter(all_x, all_y, label=\"Данные\", color='b')\n",
    "\n",
    "k, b = np.polyfit(linear_x, linear_y, 1)\n",
    "plt.plot(grid, k * grid + b, label=\"МНК приближение\", color='r')\n",
    "\n",
    "plt.legend(loc='best', fontsize=16)\n",
    "plt.show()"
   ]
  },
  {
   "cell_type": "code",
   "execution_count": 16,
   "metadata": {
    "collapsed": false
   },
   "outputs": [],
   "source": [
    "# all_x = ps2\n",
    "# all_y = vs2 / ts2\n",
    "\n",
    "# linear_prefix_len = 9\n",
    "# linear_x = all_x[:linear_prefix_len]\n",
    "# linear_y = all_y[:linear_prefix_len]\n",
    "\n",
    "# grid = np.linspace(np.min(linear_x), np.max(linear_x), 500)\n",
    "\n",
    "# plt.figure(figsize=(15, 8))\n",
    "# plt.scatter(all_x, all_y, label=\"Данные\", color='b')\n",
    "\n",
    "# k, b = np.polyfit(linear_x, linear_y, 1)\n",
    "# plt.plot(grid, k * grid + b, label=\"МНК приближение\", color='r')\n",
    "\n",
    "# plt.legend(loc='best', fontsize=16)\n",
    "# plt.show()"
   ]
  },
  {
   "cell_type": "code",
   "execution_count": null,
   "metadata": {
    "collapsed": true
   },
   "outputs": [],
   "source": [
    "delta_p_1 = 4    # мм водяного столба\n",
    "\n",
    "# 11 -- это в начале трубки, там течение не установившееся\n",
    "l1s = np.array([40, 30, 11, 50])\n",
    "p1s = np.array([53, 43, 50, 63])"
   ]
  },
  {
   "cell_type": "code",
   "execution_count": null,
   "metadata": {
    "collapsed": true
   },
   "outputs": [],
   "source": [
    "delta_p_2 = 12 # мм водяного столба\n",
    "\n",
    "ls2 = np.array([50  , 40  , 30, 10.6])\n",
    "ps2 = np.array([56.5, 69.5, 64, 60])"
   ]
  },
  {
   "cell_type": "code",
   "execution_count": null,
   "metadata": {
    "collapsed": true
   },
   "outputs": [],
   "source": []
  },
  {
   "cell_type": "code",
   "execution_count": null,
   "metadata": {
    "collapsed": true
   },
   "outputs": [],
   "source": []
  },
  {
   "cell_type": "code",
   "execution_count": null,
   "metadata": {
    "collapsed": true
   },
   "outputs": [],
   "source": []
  },
  {
   "cell_type": "code",
   "execution_count": null,
   "metadata": {
    "collapsed": true
   },
   "outputs": [],
   "source": []
  },
  {
   "cell_type": "code",
   "execution_count": null,
   "metadata": {
    "collapsed": true
   },
   "outputs": [],
   "source": []
  },
  {
   "cell_type": "code",
   "execution_count": null,
   "metadata": {
    "collapsed": true
   },
   "outputs": [],
   "source": []
  },
  {
   "cell_type": "code",
   "execution_count": null,
   "metadata": {
    "collapsed": true
   },
   "outputs": [],
   "source": []
  },
  {
   "cell_type": "code",
   "execution_count": null,
   "metadata": {
    "collapsed": true
   },
   "outputs": [],
   "source": []
  }
 ],
 "metadata": {
  "kernelspec": {
   "display_name": "Python 3",
   "language": "python",
   "name": "python3"
  },
  "language_info": {
   "codemirror_mode": {
    "name": "ipython",
    "version": 3
   },
   "file_extension": ".py",
   "mimetype": "text/x-python",
   "name": "python",
   "nbconvert_exporter": "python",
   "pygments_lexer": "ipython3",
   "version": "3.5.2"
  }
 },
 "nbformat": 4,
 "nbformat_minor": 2
}
