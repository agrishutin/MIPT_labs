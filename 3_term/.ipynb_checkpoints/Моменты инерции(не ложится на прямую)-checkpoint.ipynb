{
 "cells": [
  {
   "cell_type": "code",
   "execution_count": 1,
   "metadata": {
    "collapsed": true
   },
   "outputs": [],
   "source": [
    "import math\n",
    "import numpy as np\n",
    "import pandas as pd\n",
    "\n",
    "import matplotlib.pyplot as plt\n",
    "\n",
    "import os\n",
    "import glob\n",
    "import subprocess"
   ]
  },
  {
   "cell_type": "code",
   "execution_count": 2,
   "metadata": {
    "collapsed": false,
    "deletable": true,
    "editable": true
   },
   "outputs": [],
   "source": [
    "# установка\n",
    "m_plat = 1.0947\n",
    "k_ust = 3.9 * 10 ** (-4)\n",
    "i_plat_th = 8.31 * 10 ** (-3)\n",
    "\n",
    "def i(m, t):\n",
    "    return k_ust * m * t ** 2\n"
   ]
  },
  {
   "cell_type": "code",
   "execution_count": 63,
   "metadata": {
    "collapsed": false,
    "deletable": true,
    "editable": true
   },
   "outputs": [
    {
     "name": "stdout",
     "output_type": "stream",
     "text": [
      "Момент инерции с бруском(эксперимент): 0.009828694025303304\n",
      "Момент инерции с бруском(теория): 0.010992124218750001\n",
      "Момент инерции бруска(теория): 0.0026821242187499996\n",
      "Отклонение: 10.5842162105679%\n",
      "\n",
      "\n"
     ]
    }
   ],
   "source": [
    "# платформа с бруском\n",
    "m_brus = 0.7065\n",
    "a = 20 * 10 ** (-3) \n",
    "b = a\n",
    "c = 212.5 * 10 ** (-3)\n",
    "\n",
    "t_3 = [19.496, 18.623, 18.635, 18.517, 18.563, 18.552, 18.533] \n",
    "t_av_3 = sum(t_3) / len(t_3) / 5\n",
    "\n",
    "i_brus_plat_exp = i(m_brus + m_plat, t_av_3)\n",
    "i_brus_th = 1/12 * m_brus * (a ** 2 + c ** 2)\n",
    "i_brus_plat_th = i_plat_th + i_brus_th\n",
    "\n",
    "print(\"Момент инерции с бруском(эксперимент): {}\".format(i_brus_plat_exp))\n",
    "print(\"Момент инерции с бруском(теория): {}\".format(i_brus_th + i_plat_th))\n",
    "print(\"Момент инерции бруска(теория): {}\".format(i_brus_th))\n",
    "print(\"Отклонение: {}%\".format((\n",
    "    (i_brus_th + i_plat_th) - i_brus_plat_exp) / max(i_brus_th + i_plat_th, i_brus_plat_exp) * 100))\n",
    "\n",
    "print(\"\\n\")"
   ]
  },
  {
   "cell_type": "code",
   "execution_count": 64,
   "metadata": {
    "collapsed": false,
    "deletable": true,
    "editable": true
   },
   "outputs": [
    {
     "name": "stdout",
     "output_type": "stream",
     "text": [
      "========Цилиндр=========\n",
      "Средние времена:\n",
      "4.0766\n",
      "3.94226666667\n",
      "3.9724\n",
      "3.57746666667\n",
      "3.30513333333\n",
      "3.18853333333\n",
      "3.12333333333\n",
      "3.08806666667\n"
     ]
    }
   ],
   "source": [
    "# цилиндр \n",
    "m_cil = 0.5653 + 0.5664\n",
    "r_cil = 4.15 * 10 ** (-2) # 4.15 см\n",
    "i_cil = m_cil * r_cil ** 2 / 2\n",
    "\n",
    "h = [8, 7, 7.5, 5, 4, 3, 1, 0]\n",
    "t_cil = [[20.302, 20.67, 20.177],\n",
    "         [19.718, 19.672, 19.744],\n",
    "         [19.691, 19.842, 20.053],\n",
    "         [17.914, 17.908, 17.840],\n",
    "         [16.740, 16.097, 16.740],\n",
    "         [16.632, 15.632, 15.564],\n",
    "         [15.626, 15.621, 15.603],\n",
    "         [15.421, 15.441, 15.459]]\n",
    "\n",
    "t_cil = np.array(t_cil)\n",
    "t_mean = t_cil.mean(axis=1) / 5\n",
    "\n",
    "print('========Цилиндр=========\\nСредние времена:\\n{}'.format('\\n'.join(map(str, t_mean))))"
   ]
  },
  {
   "cell_type": "code",
   "execution_count": 70,
   "metadata": {
    "collapsed": false,
    "deletable": true,
    "editable": true
   },
   "outputs": [
    {
     "name": "stdout",
     "output_type": "stream",
     "text": [
      "[ 16.61866756  15.54146647  15.77996176  12.79826775  10.92390635\n",
      "  10.16674482   9.75521111   9.53615574]\n"
     ]
    },
    {
     "data": {
      "image/png": "[encoded data removed]",
      "text/plain": [
       "<matplotlib.figure.Figure at 0x7fce12898be0>"
      ]
     },
     "metadata": {},
     "output_type": "display_data"
    }
   ],
   "source": [
    "x = np.array(h) ** 2\n",
    "y = t_mean ** 2\n",
    "print(y)\n",
    "err_x = 2 * 0.05\n",
    "err_y = 2 * 0.01\n",
    "\n",
    "A = np.vstack([x, np.ones(len(x))]).T\n",
    "\n",
    "k_best, b_best = np.linalg.lstsq(A, y)[0]\n",
    "\n",
    "plt.figure(figsize=(12, 12))\n",
    "# plt.figure().gca().set_xticks(np.arange(0,1,0.1))\n",
    "# plt.figure().gca().set_yticks(np.arange(0,1.,0.1))\n",
    "\n",
    "plt.xlim(np.min(x), np.max(x))\n",
    "plt.plot(x, k_best * x + b_best, 'r')\n",
    "plt.scatter(x,y, color='blue', label='Исходные данные')\n",
    "\n",
    "plt.xlabel('$h^2, см^2$')\n",
    "plt.ylabel('$T^2, с^2$')\n",
    "plt.grid()\n",
    "plt.legend()\n",
    "plt.show()"
   ]
  },
  {
   "cell_type": "code",
   "execution_count": 66,
   "metadata": {
    "collapsed": false,
    "deletable": true,
    "editable": true
   },
   "outputs": [
    {
     "name": "stdout",
     "output_type": "stream",
     "text": [
      "Пересечение с осью ординат: 9.47\n",
      "Коэффициент наклона: 0.13\n"
     ]
    }
   ],
   "source": [
    "k_best = 0.13\n",
    "b_best = 9.47\n",
    "print(\"Пересечение с осью ординат: {}\".format(b_best))\n",
    "print(\"Коэффициент наклона: {}\".format(k_best))"
   ]
  },
  {
   "cell_type": "code",
   "execution_count": 67,
   "metadata": {
    "collapsed": false,
    "deletable": true,
    "editable": true
   },
   "outputs": [
    {
     "name": "stdout",
     "output_type": "stream",
     "text": [
      "Коэффициент установки: 3.9100721412974373\n"
     ]
    }
   ],
   "source": [
    "K_ust = m_cil / ((m_cil + m_plat) * k_best)\n",
    "print(\"Коэффициент установки: {}\".format(K_ust))"
   ]
  },
  {
   "cell_type": "code",
   "execution_count": 69,
   "metadata": {
    "collapsed": false,
    "deletable": true,
    "editable": true
   },
   "outputs": [
    {
     "name": "stdout",
     "output_type": "stream",
     "text": [
      "Получившееся T^2: 0.0010665278528982948\n"
     ]
    }
   ],
   "source": [
    "i_cil = m_cil * r_cil ** 2 / 2\n",
    "i_plat = i_plat_th\n",
    "T_prac = (i_plat + i_cil) / ((m_plat + m_cil) * K_ust)\n",
    "print(\"Получившееся T^2: {}\".format(T_prac))"
   ]
  },
  {
   "cell_type": "code",
   "execution_count": null,
   "metadata": {
    "collapsed": true,
    "deletable": true,
    "editable": true
   },
   "outputs": [],
   "source": []
  }
 ],
 "metadata": {
  "kernelspec": {
   "display_name": "Python 3",
   "language": "python",
   "name": "python3"
  },
  "language_info": {
   "codemirror_mode": {
    "name": "ipython",
    "version": 3
   },
   "file_extension": ".py",
   "mimetype": "text/x-python",
   "name": "python",
   "nbconvert_exporter": "python",
   "pygments_lexer": "ipython3",
   "version": "3.5.2"
  }
 },
 "nbformat": 4,
 "nbformat_minor": 2
}
